{
 "cells": [
  {
   "cell_type": "markdown",
   "metadata": {},
   "source": [
    "#### APIs\n",
    "    Application programming Interface\n",
    "\n",
    "\n",
    "    Application-1 ------>| API | --------> Application-2\n",
    "\n",
    "                  <------|     | <------- \n"
   ]
  },
  {
   "cell_type": "markdown",
   "metadata": {},
   "source": [
    "###### REST\n",
    "        \n",
    "    representational state transfer \n",
    "\n",
    "    WORKS ON HTTP PROTOCOL\n",
    "\n",
    "    JSON, XML, ......\n",
    "\n",
    "###### SOAP\n",
    "    \n",
    "    SOAP( SIMPLE OBJECT ACCESS PROTOCOL)\n",
    "\n",
    "    custom protocols\n",
    "\n",
    "    custom Serializers\n",
    "\n",
    "###### HTTP request SEND and RECEVE\n",
    "\n",
    "    TOKENS ----> API keys\n",
    "\n",
    "\n",
    "    API <---- Request (Query, KEY)---> 403 -> Error\n",
    "\n"
   ]
  },
  {
   "cell_type": "code",
   "execution_count": 2,
   "metadata": {},
   "outputs": [
    {
     "name": "stdout",
     "output_type": "stream",
     "text": [
      "Collecting requests\n",
      "  Downloading requests-2.31.0-py3-none-any.whl.metadata (4.6 kB)\n",
      "Collecting charset-normalizer<4,>=2 (from requests)\n",
      "  Downloading charset_normalizer-3.3.2-cp39-cp39-win_amd64.whl.metadata (34 kB)\n",
      "Collecting idna<4,>=2.5 (from requests)\n",
      "  Downloading idna-3.6-py3-none-any.whl.metadata (9.9 kB)\n",
      "Collecting urllib3<3,>=1.21.1 (from requests)\n",
      "  Downloading urllib3-2.1.0-py3-none-any.whl.metadata (6.4 kB)\n",
      "Collecting certifi>=2017.4.17 (from requests)\n",
      "  Downloading certifi-2023.11.17-py3-none-any.whl.metadata (2.2 kB)\n",
      "Downloading requests-2.31.0-py3-none-any.whl (62 kB)\n",
      "   ---------------------------------------- 0.0/62.6 kB ? eta -:--:--\n",
      "   ------ --------------------------------- 10.2/62.6 kB ? eta -:--:--\n",
      "   ---------------------------------------- 62.6/62.6 kB 1.1 MB/s eta 0:00:00\n",
      "Downloading certifi-2023.11.17-py3-none-any.whl (162 kB)\n",
      "   ---------------------------------------- 0.0/162.5 kB ? eta -:--:--\n",
      "   -- ------------------------------------- 10.2/162.5 kB ? eta -:--:--\n",
      "   --------- ----------------------------- 41.0/162.5 kB 487.6 kB/s eta 0:00:01\n",
      "   --------- ----------------------------- 41.0/162.5 kB 487.6 kB/s eta 0:00:01\n",
      "   ------------------- ------------------- 81.9/162.5 kB 573.4 kB/s eta 0:00:01\n",
      "   ---------------------- ---------------- 92.2/162.5 kB 521.8 kB/s eta 0:00:01\n",
      "   -------------------------- ----------- 112.6/162.5 kB 502.0 kB/s eta 0:00:01\n",
      "   -------------------------- ----------- 112.6/162.5 kB 502.0 kB/s eta 0:00:01\n",
      "   --------------------------------- ---- 143.4/162.5 kB 404.6 kB/s eta 0:00:01\n",
      "   -------------------------------------- 162.5/162.5 kB 423.0 kB/s eta 0:00:00\n",
      "Downloading charset_normalizer-3.3.2-cp39-cp39-win_amd64.whl (100 kB)\n",
      "   ---------------------------------------- 0.0/100.4 kB ? eta -:--:--\n",
      "   ---- ----------------------------------- 10.2/100.4 kB ? eta -:--:--\n",
      "   ----------- --------------------------- 30.7/100.4 kB 435.7 kB/s eta 0:00:01\n",
      "   ----------- --------------------------- 30.7/100.4 kB 435.7 kB/s eta 0:00:01\n",
      "   --------------- ----------------------- 41.0/100.4 kB 326.8 kB/s eta 0:00:01\n",
      "   --------------- ----------------------- 41.0/100.4 kB 326.8 kB/s eta 0:00:01\n",
      "   ----------------------- --------------- 61.4/100.4 kB 252.2 kB/s eta 0:00:01\n",
      "   ----------------------- --------------- 61.4/100.4 kB 252.2 kB/s eta 0:00:01\n",
      "   ----------------------- --------------- 61.4/100.4 kB 252.2 kB/s eta 0:00:01\n",
      "   --------------------------- ----------- 71.7/100.4 kB 171.1 kB/s eta 0:00:01\n",
      "   --------------------------- ----------- 71.7/100.4 kB 171.1 kB/s eta 0:00:01\n",
      "   ----------------------------------- --- 92.2/100.4 kB 169.3 kB/s eta 0:00:01\n",
      "   -------------------------------------- 100.4/100.4 kB 169.7 kB/s eta 0:00:00\n",
      "Downloading idna-3.6-py3-none-any.whl (61 kB)\n",
      "   ---------------------------------------- 0.0/61.6 kB ? eta -:--:--\n",
      "   ---------------------------------------- 0.0/61.6 kB ? eta -:--:--\n",
      "   ------ --------------------------------- 10.2/61.6 kB ? eta -:--:--\n",
      "   ------ --------------------------------- 10.2/61.6 kB ? eta -:--:--\n",
      "   ------------------- -------------------- 30.7/61.6 kB 217.9 kB/s eta 0:00:01\n",
      "   ------------------- -------------------- 30.7/61.6 kB 217.9 kB/s eta 0:00:01\n",
      "   ------------------- -------------------- 30.7/61.6 kB 217.9 kB/s eta 0:00:01\n",
      "   -------------------------- ------------- 41.0/61.6 kB 140.3 kB/s eta 0:00:01\n",
      "   -------------------------- ------------- 41.0/61.6 kB 140.3 kB/s eta 0:00:01\n",
      "   -------------------------- ------------- 41.0/61.6 kB 140.3 kB/s eta 0:00:01\n",
      "   -------------------------- ------------- 41.0/61.6 kB 140.3 kB/s eta 0:00:01\n",
      "   -------------------------- ------------- 41.0/61.6 kB 140.3 kB/s eta 0:00:01\n",
      "   ---------------------------------------- 61.6/61.6 kB 106.0 kB/s eta 0:00:00\n",
      "Downloading urllib3-2.1.0-py3-none-any.whl (104 kB)\n",
      "   ---------------------------------------- 0.0/104.6 kB ? eta -:--:--\n",
      "   ---------------------------------------- 0.0/104.6 kB ? eta -:--:--\n",
      "   ---------------------------------------- 0.0/104.6 kB ? eta -:--:--\n",
      "   --- ------------------------------------ 10.2/104.6 kB ? eta -:--:--\n",
      "   --- ------------------------------------ 10.2/104.6 kB ? eta -:--:--\n",
      "   --- ------------------------------------ 10.2/104.6 kB ? eta -:--:--\n",
      "   --- ------------------------------------ 10.2/104.6 kB ? eta -:--:--\n",
      "   --- ------------------------------------ 10.2/104.6 kB ? eta -:--:--\n",
      "   --- ------------------------------------ 10.2/104.6 kB ? eta -:--:--\n",
      "   --- ------------------------------------ 10.2/104.6 kB ? eta -:--:--\n",
      "   --- ------------------------------------ 10.2/104.6 kB ? eta -:--:--\n",
      "   --- ------------------------------------ 10.2/104.6 kB ? eta -:--:--\n",
      "   ----------- ---------------------------- 30.7/104.6 kB 48.5 kB/s eta 0:00:02\n",
      "   ----------- ---------------------------- 30.7/104.6 kB 48.5 kB/s eta 0:00:02\n",
      "   ----------- ---------------------------- 30.7/104.6 kB 48.5 kB/s eta 0:00:02\n",
      "   ----------- ---------------------------- 30.7/104.6 kB 48.5 kB/s eta 0:00:02\n",
      "   ----------- ---------------------------- 30.7/104.6 kB 48.5 kB/s eta 0:00:02\n",
      "   ----------- ---------------------------- 30.7/104.6 kB 48.5 kB/s eta 0:00:02\n",
      "   ----------- ---------------------------- 30.7/104.6 kB 48.5 kB/s eta 0:00:02\n",
      "   --------------- ------------------------ 41.0/104.6 kB 41.8 kB/s eta 0:00:02\n",
      "   --------------- ------------------------ 41.0/104.6 kB 41.8 kB/s eta 0:00:02\n",
      "   --------------- ------------------------ 41.0/104.6 kB 41.8 kB/s eta 0:00:02\n",
      "   --------------- ------------------------ 41.0/104.6 kB 41.8 kB/s eta 0:00:02\n",
      "   --------------- ------------------------ 41.0/104.6 kB 41.8 kB/s eta 0:00:02\n",
      "   ----------------------- ---------------- 61.4/104.6 kB 53.7 kB/s eta 0:00:01\n",
      "   ----------------------- ---------------- 61.4/104.6 kB 53.7 kB/s eta 0:00:01\n",
      "   ----------------------- ---------------- 61.4/104.6 kB 53.7 kB/s eta 0:00:01\n",
      "   ------------------------------- -------- 81.9/104.6 kB 64.6 kB/s eta 0:00:01\n",
      "   ------------------------------- -------- 81.9/104.6 kB 64.6 kB/s eta 0:00:01\n",
      "   ------------------------------- -------- 81.9/104.6 kB 64.6 kB/s eta 0:00:01\n",
      "   ----------------------------------- ---- 92.2/104.6 kB 66.3 kB/s eta 0:00:01\n",
      "   --------------------------------------- 104.6/104.6 kB 73.6 kB/s eta 0:00:00\n",
      "Installing collected packages: urllib3, idna, charset-normalizer, certifi, requests\n",
      "Successfully installed certifi-2023.11.17 charset-normalizer-3.3.2 idna-3.6 requests-2.31.0 urllib3-2.1.0\n",
      "Note: you may need to restart the kernel to use updated packages.\n"
     ]
    }
   ],
   "source": [
    "pip install requests"
   ]
  },
  {
   "cell_type": "code",
   "execution_count": 3,
   "metadata": {},
   "outputs": [
    {
     "name": "stdout",
     "output_type": "stream",
     "text": [
      "<class 'requests.models.Response'>\n"
     ]
    }
   ],
   "source": [
    "import requests\n",
    "resp = requests.get(\"http://localhost:5000\")\n",
    "print(type(resp))"
   ]
  },
  {
   "cell_type": "code",
   "execution_count": 6,
   "metadata": {},
   "outputs": [
    {
     "name": "stdout",
     "output_type": "stream",
     "text": [
      "200\n",
      "OK\n"
     ]
    }
   ],
   "source": [
    "print(resp.status_code) #HTTP Status\n",
    "print(resp.reason)"
   ]
  },
  {
   "cell_type": "markdown",
   "metadata": {},
   "source": [
    "`status_codes`\n",
    "\n",
    "1xx    -  Information\n",
    "\n",
    "2xx    -  Success\n",
    "\n",
    "3xx    -  Redirection\n",
    "\n",
    "4xx    -  client side error\n",
    "\n",
    "          404 = invalid URL or Resource path\n",
    "\n",
    "          413 = Authorization Error\n",
    "          \n",
    "5xx    -  Server side error\n",
    "\n",
    "          500  - server"
   ]
  },
  {
   "cell_type": "code",
   "execution_count": 7,
   "metadata": {},
   "outputs": [],
   "source": [
    "from pprint import pprint"
   ]
  },
  {
   "cell_type": "code",
   "execution_count": 8,
   "metadata": {},
   "outputs": [
    {
     "name": "stdout",
     "output_type": "stream",
     "text": [
      "{'Content-Type': 'text/html; charset=utf-8', 'Content-Length': '7785', 'Server': 'Werkzeug/2.0.3 Python/3.9.13', 'Date': 'Tue, 30 Jan 2024 13:52:18 GMT'}\n"
     ]
    }
   ],
   "source": [
    "pprint(resp.headers)"
   ]
  },
  {
   "cell_type": "code",
   "execution_count": 9,
   "metadata": {},
   "outputs": [
    {
     "name": "stdout",
     "output_type": "stream",
     "text": [
      "<RequestsCookieJar[]>\n"
     ]
    }
   ],
   "source": [
    "print(resp.cookies)"
   ]
  },
  {
   "cell_type": "code",
   "execution_count": 10,
   "metadata": {},
   "outputs": [
    {
     "data": {
      "text/plain": [
       "b'<!doctype html>\\n<html lang=\"en\" data-bs-theme=\"auto\">\\n  <head><script src=\"../assets/js/color-modes.js\"></script>\\n\\n    <meta charset=\"utf-8\">\\n    <meta name=\"viewport\" content=\"width=device-width, initial-scale=1\">\\n    <meta name=\"description\" content=\"\">\\n    <meta name=\"author\" content=\"Mark Otto, Jacob Thornton, and Bootstrap contributors\">\\n    <meta name=\"generator\" content=\"Hugo 0.118.2\">\\n    <title>Signin Template \\xc2\\xb7 Bootstrap v5.3</title>\\n\\n    \\n\\n    \\n\\n<link href=\"/static/css/bootstrap.min.css\" rel=\"stylesheet\">\\n\\n    <style>\\n      .bd-placeholder-img {\\n        font-size: 1.125rem;\\n        text-anchor: middle;\\n        -webkit-user-select: none;\\n        -moz-user-select: none;\\n        user-select: none;\\n      }\\n\\n      @media (min-width: 768px) {\\n        .bd-placeholder-img-lg {\\n          font-size: 3.5rem;\\n        }\\n      }\\n\\n      .b-example-divider {\\n        width: 100%;\\n        height: 3rem;\\n        background-color: rgba(0, 0, 0, .1);\\n        border: solid rgba(0, 0, 0, .15);\\n        border-width: 1px 0;\\n        box-shadow: inset 0 .5em 1.5em rgba(0, 0, 0, .1), inset 0 .125em .5em rgba(0, 0, 0, .15);\\n      }\\n\\n      .b-example-vr {\\n        flex-shrink: 0;\\n        width: 1.5rem;\\n        height: 100vh;\\n      }\\n\\n      .bi {\\n        vertical-align: -.125em;\\n        fill: currentColor;\\n      }\\n\\n      .nav-scroller {\\n        position: relative;\\n        z-index: 2;\\n        height: 2.75rem;\\n        overflow-y: hidden;\\n      }\\n\\n      .nav-scroller .nav {\\n        display: flex;\\n        flex-wrap: nowrap;\\n        padding-bottom: 1rem;\\n        margin-top: -1px;\\n        overflow-x: auto;\\n        text-align: center;\\n        white-space: nowrap;\\n        -webkit-overflow-scrolling: touch;\\n      }\\n\\n      .btn-bd-primary {\\n        --bd-violet-bg: #712cf9;\\n        --bd-violet-rgb: 112.520718, 44.062154, 249.437846;\\n\\n        --bs-btn-font-weight: 600;\\n        --bs-btn-color: var(--bs-white);\\n        --bs-btn-bg: var(--bd-violet-bg);\\n        --bs-btn-border-color: var(--bd-violet-bg);\\n        --bs-btn-hover-color: var(--bs-white);\\n        --bs-btn-hover-bg: #6528e0;\\n        --bs-btn-hover-border-color: #6528e0;\\n        --bs-btn-focus-shadow-rgb: var(--bd-violet-rgb);\\n        --bs-btn-active-color: var(--bs-btn-hover-color);\\n        --bs-btn-active-bg: #5a23c8;\\n        --bs-btn-active-border-color: #5a23c8;\\n      }\\n\\n      .bd-mode-toggle {\\n        z-index: 1500;\\n      }\\n\\n      .bd-mode-toggle .dropdown-menu .active .bi {\\n        display: block !important;\\n      }\\n    </style>\\n\\n    \\n    <!-- Custom styles for this template -->\\n    <link href=\"/static/css/signin.css\" rel=\"stylesheet\">\\n  </head>\\n  <body class=\"d-flex align-items-center py-4 bg-body-tertiary\">\\n    <svg xmlns=\"http://www.w3.org/2000/svg\" class=\"d-none\">\\n      <symbol id=\"check2\" viewBox=\"0 0 16 16\">\\n        <path d=\"M13.854 3.646a.5.5 0 0 1 0 .708l-7 7a.5.5 0 0 1-.708 0l-3.5-3.5a.5.5 0 1 1 .708-.708L6.5 10.293l6.646-6.647a.5.5 0 0 1 .708 0z\"/>\\n      </symbol>\\n      <symbol id=\"circle-half\" viewBox=\"0 0 16 16\">\\n        <path d=\"M8 15A7 7 0 1 0 8 1v14zm0 1A8 8 0 1 1 8 0a8 8 0 0 1 0 16z\"/>\\n      </symbol>\\n      <symbol id=\"moon-stars-fill\" viewBox=\"0 0 16 16\">\\n        <path d=\"M6 .278a.768.768 0 0 1 .08.858 7.208 7.208 0 0 0-.878 3.46c0 4.021 3.278 7.277 7.318 7.277.527 0 1.04-.055 1.533-.16a.787.787 0 0 1 .81.316.733.733 0 0 1-.031.893A8.349 8.349 0 0 1 8.344 16C3.734 16 0 12.286 0 7.71 0 4.266 2.114 1.312 5.124.06A.752.752 0 0 1 6 .278z\"/>\\n        <path d=\"M10.794 3.148a.217.217 0 0 1 .412 0l.387 1.162c.173.518.579.924 1.097 1.097l1.162.387a.217.217 0 0 1 0 .412l-1.162.387a1.734 1.734 0 0 0-1.097 1.097l-.387 1.162a.217.217 0 0 1-.412 0l-.387-1.162A1.734 1.734 0 0 0 9.31 6.593l-1.162-.387a.217.217 0 0 1 0-.412l1.162-.387a1.734 1.734 0 0 0 1.097-1.097l.387-1.162zM13.863.099a.145.145 0 0 1 .274 0l.258.774c.115.346.386.617.732.732l.774.258a.145.145 0 0 1 0 .274l-.774.258a1.156 1.156 0 0 0-.732.732l-.258.774a.145.145 0 0 1-.274 0l-.258-.774a1.156 1.156 0 0 0-.732-.732l-.774-.258a.145.145 0 0 1 0-.274l.774-.258c.346-.115.617-.386.732-.732L13.863.1z\"/>\\n      </symbol>\\n      <symbol id=\"sun-fill\" viewBox=\"0 0 16 16\">\\n        <path d=\"M8 12a4 4 0 1 0 0-8 4 4 0 0 0 0 8zM8 0a.5.5 0 0 1 .5.5v2a.5.5 0 0 1-1 0v-2A.5.5 0 0 1 8 0zm0 13a.5.5 0 0 1 .5.5v2a.5.5 0 0 1-1 0v-2A.5.5 0 0 1 8 13zm8-5a.5.5 0 0 1-.5.5h-2a.5.5 0 0 1 0-1h2a.5.5 0 0 1 .5.5zM3 8a.5.5 0 0 1-.5.5h-2a.5.5 0 0 1 0-1h2A.5.5 0 0 1 3 8zm10.657-5.657a.5.5 0 0 1 0 .707l-1.414 1.415a.5.5 0 1 1-.707-.708l1.414-1.414a.5.5 0 0 1 .707 0zm-9.193 9.193a.5.5 0 0 1 0 .707L3.05 13.657a.5.5 0 0 1-.707-.707l1.414-1.414a.5.5 0 0 1 .707 0zm9.193 2.121a.5.5 0 0 1-.707 0l-1.414-1.414a.5.5 0 0 1 .707-.707l1.414 1.414a.5.5 0 0 1 0 .707zM4.464 4.465a.5.5 0 0 1-.707 0L2.343 3.05a.5.5 0 1 1 .707-.707l1.414 1.414a.5.5 0 0 1 0 .708z\"/>\\n      </symbol>\\n    </svg>\\n\\n    <div class=\"dropdown position-fixed bottom-0 end-0 mb-3 me-3 bd-mode-toggle\">\\n      <button class=\"btn btn-bd-primary py-2 dropdown-toggle d-flex align-items-center\"\\n              id=\"bd-theme\"\\n              type=\"button\"\\n              aria-expanded=\"false\"\\n              data-bs-toggle=\"dropdown\"\\n              aria-label=\"Toggle theme (auto)\">\\n        <svg class=\"bi my-1 theme-icon-active\" width=\"1em\" height=\"1em\"><use href=\"#circle-half\"></use></svg>\\n        <span class=\"visually-hidden\" id=\"bd-theme-text\">Toggle theme</span>\\n      </button>\\n      <ul class=\"dropdown-menu dropdown-menu-end shadow\" aria-labelledby=\"bd-theme-text\">\\n        <li>\\n          <button type=\"button\" class=\"dropdown-item d-flex align-items-center\" data-bs-theme-value=\"light\" aria-pressed=\"false\">\\n            <svg class=\"bi me-2 opacity-50 theme-icon\" width=\"1em\" height=\"1em\"><use href=\"#sun-fill\"></use></svg>\\n            Light\\n            <svg class=\"bi ms-auto d-none\" width=\"1em\" height=\"1em\"><use href=\"#check2\"></use></svg>\\n          </button>\\n        </li>\\n        <li>\\n          <button type=\"button\" class=\"dropdown-item d-flex align-items-center\" data-bs-theme-value=\"dark\" aria-pressed=\"false\">\\n            <svg class=\"bi me-2 opacity-50 theme-icon\" width=\"1em\" height=\"1em\"><use href=\"#moon-stars-fill\"></use></svg>\\n            Dark\\n            <svg class=\"bi ms-auto d-none\" width=\"1em\" height=\"1em\"><use href=\"#check2\"></use></svg>\\n          </button>\\n        </li>\\n        <li>\\n          <button type=\"button\" class=\"dropdown-item d-flex align-items-center active\" data-bs-theme-value=\"auto\" aria-pressed=\"true\">\\n            <svg class=\"bi me-2 opacity-50 theme-icon\" width=\"1em\" height=\"1em\"><use href=\"#circle-half\"></use></svg>\\n            Auto\\n            <svg class=\"bi ms-auto d-none\" width=\"1em\" height=\"1em\"><use href=\"#check2\"></use></svg>\\n          </button>\\n        </li>\\n      </ul>\\n    </div>\\n\\n    \\n<main class=\"form-signin w-100 m-auto\">\\n\\n\\n\\n  <form method=\"POST\" action=\"/login\">\\n    <img class=\"mb-4\" src=\"/static/images/sorab.png\" alt=\"\" width=\"250\" height=\"100\">\\n    <h1 class=\"h3 mb-3 fw-normal\">Please sign in</h1>\\n\\n    <div>\\n      \\n    </div>\\n  \\n\\n    <div class=\"form-floating\">\\n      <input name=\"email\" type=\"email\" class=\"form-control\" id=\"floatingInput\" placeholder=\"name@example.com\" required>\\n      <label for=\"floatingInput\">Email address</label>\\n    </div>\\n    <div class=\"form-floating\">\\n      <input name=\"password\" type=\"password\" class=\"form-control\" id=\"floatingPassword\" placeholder=\"Password\" required>\\n      <label for=\"floatingPassword\">Password</label>\\n    </div>\\n\\n    \\n    <button class=\"btn btn-primary w-100 py-2\" type=\"submit\">Sign in</button>\\n    <a class=\"w-100 btn btn-lg btn-primary\" style =\"background-color: red;\"href=\"/signup\">Sign up?</a>\\n    <p class=\"mt-5 mb-3 text-body-secondary\">&copy; 2017\\xe2\\x80\\x932023</p>\\n  </form>\\n</main>\\n<script src=\"../assets/dist/js/bootstrap.bundle.min.js\"></script>\\n\\n    </body>\\n</html>'"
      ]
     },
     "execution_count": 10,
     "metadata": {},
     "output_type": "execute_result"
    }
   ],
   "source": [
    "resp.content #bytes"
   ]
  },
  {
   "cell_type": "code",
   "execution_count": 15,
   "metadata": {},
   "outputs": [],
   "source": [
    " url = \"https://grras.com/files/qjsmokvdbug8atleyuvb/IMG-20200316-WA0012.jpg\""
   ]
  },
  {
   "cell_type": "code",
   "execution_count": 16,
   "metadata": {},
   "outputs": [],
   "source": [
    "resp = requests.get(url)\n"
   ]
  },
  {
   "cell_type": "code",
   "execution_count": 17,
   "metadata": {},
   "outputs": [
    {
     "data": {
      "text/plain": [
       "200"
      ]
     },
     "execution_count": 17,
     "metadata": {},
     "output_type": "execute_result"
    }
   ],
   "source": [
    "resp.status_code"
   ]
  },
  {
   "cell_type": "code",
   "execution_count": 18,
   "metadata": {},
   "outputs": [
    {
     "data": {
      "text/plain": [
       "'image/jpeg'"
      ]
     },
     "execution_count": 18,
     "metadata": {},
     "output_type": "execute_result"
    }
   ],
   "source": [
    "resp.headers[\"content-Type\"]"
   ]
  },
  {
   "cell_type": "code",
   "execution_count": 20,
   "metadata": {},
   "outputs": [],
   "source": [
    "#resp.headers  #isse sari info mil jayegi "
   ]
  },
  {
   "cell_type": "code",
   "execution_count": 23,
   "metadata": {},
   "outputs": [],
   "source": [
    "with open(\"C:\\\\Users\\\\saurabh\\\\Desktop\\\\Sourabh Raj\\\\myimg.jpg\", \"wb\") as file:\n",
    "    file.write(resp.content)  # ye humari image download ho gayi hai"
   ]
  },
  {
   "cell_type": "code",
   "execution_count": 4,
   "metadata": {},
   "outputs": [
    {
     "name": "stdout",
     "output_type": "stream",
     "text": [
      "{\n",
      "   \"candidates\" : [],\n",
      "   \"error_message\" : \"You must use an API key to authenticate each request to Google Maps Platform APIs. For additional information, please refer to http://g.co/dev/maps-no-account\",\n",
      "   \"status\" : \"REQUEST_DENIED\"\n",
      "}\n"
     ]
    }
   ],
   "source": [
    "import requests\n",
    "url =\"https://maps.googleapis.com/maps/api/place/findplacefromtext/json?input=Museum%20of%20Contemporary%20Art%20Australia\"\n",
    " \n",
    "payload={}\n",
    "headers={}\n",
    "\n",
    "response = requests.request(\"GET\", url, headers=headers, data=payload)\n",
    "\n",
    "print(response.text)"
   ]
  },
  {
   "cell_type": "code",
   "execution_count": 5,
   "metadata": {},
   "outputs": [],
   "source": [
    "url =\"https://maps.googleapis.com/maps/api/place/findplacefromtext/json\"\n",
    "parameters = {\n",
    "    \"input\": \"jaipur\",\n",
    "    \"inputtype\": \"textquerry\",\n",
    "    \"key\":\"\"  # YAHA VO API KEY AAYEGI JO HUM GOOGLE SE LENGE\n",
    "}\n",
    "#input=&\n",
    "#inputtype=textquery&\n",
    "#key=YOUR_API_KEY\""
   ]
  },
  {
   "cell_type": "code",
   "execution_count": 6,
   "metadata": {},
   "outputs": [],
   "source": [
    "resp = requests.get(url,params=parameters)"
   ]
  },
  {
   "cell_type": "code",
   "execution_count": 8,
   "metadata": {},
   "outputs": [
    {
     "data": {
      "text/plain": [
       "'https://maps.googleapis.com/maps/api/place/findplacefromtext/json?input=jaipur&inputtype=textquerry&key='"
      ]
     },
     "execution_count": 8,
     "metadata": {},
     "output_type": "execute_result"
    }
   ],
   "source": [
    "resp.url"
   ]
  },
  {
   "cell_type": "code",
   "execution_count": 9,
   "metadata": {},
   "outputs": [
    {
     "data": {
      "text/plain": [
       "200"
      ]
     },
     "execution_count": 9,
     "metadata": {},
     "output_type": "execute_result"
    }
   ],
   "source": [
    "resp.status_code"
   ]
  },
  {
   "cell_type": "code",
   "execution_count": 10,
   "metadata": {},
   "outputs": [
    {
     "data": {
      "text/plain": [
       "'application/json; charset=UTF-8'"
      ]
     },
     "execution_count": 10,
     "metadata": {},
     "output_type": "execute_result"
    }
   ],
   "source": [
    "resp.headers[\"Content-Type\"]"
   ]
  },
  {
   "cell_type": "code",
   "execution_count": 13,
   "metadata": {},
   "outputs": [],
   "source": [
    "ans =resp.json()"
   ]
  },
  {
   "cell_type": "code",
   "execution_count": 14,
   "metadata": {},
   "outputs": [
    {
     "name": "stdout",
     "output_type": "stream",
     "text": [
      "{'candidates': [], 'error_message': 'You must use an API key to authenticate each request to Google Maps Platform APIs. For additional information, please refer to http://g.co/dev/maps-no-account', 'status': 'REQUEST_DENIED'}\n"
     ]
    }
   ],
   "source": [
    "print(ans) # isme humne api nahi bna rakhi hai so wo maan nahi raha hai "
   ]
  },
  {
   "cell_type": "code",
   "execution_count": 15,
   "metadata": {},
   "outputs": [],
   "source": [
    "#kuchh iss tarah ka response milega jab hum actual api use karenge\\\n",
    "\n",
    "data = {\n",
    "  \"candidates\":\n",
    "    [\n",
    "      {\n",
    "        \"formatted_address\": \"140 George St, The Rocks NSW 2000, Australia\",\n",
    "        \"geometry\":\n",
    "          {\n",
    "            \"location\": { \"lat\": -33.8599358, \"lng\": 151.2090295 },\n",
    "            \"viewport\":\n",
    "              {\n",
    "                \"northeast\":\n",
    "                  { \"lat\": -33.85824377010728, \"lng\": 151.2104386798927 },\n",
    "                \"southwest\":\n",
    "                  { \"lat\": -33.86094342989272, \"lng\": 151.2077390201073 },\n",
    "              },\n",
    "          },\n",
    "        \"name\": \"Museum of Contemporary Art Australia\",\n",
    "        \"opening_hours\": { \"open_now\": False },\n",
    "        \"rating\": 4.4,\n",
    "      },\n",
    "    ],\n",
    "  \"status\": \"OK\",\n",
    "}"
   ]
  },
  {
   "cell_type": "code",
   "execution_count": 17,
   "metadata": {},
   "outputs": [],
   "source": [
    "key = \"fd762b8f8b57466918cd66089bf8d1c6\""
   ]
  },
  {
   "cell_type": "code",
   "execution_count": 29,
   "metadata": {},
   "outputs": [],
   "source": [
    "url=\"https://api.openweathermap.org/data/2.5/weather\"\n",
    "parameters = {\n",
    "    \"lat\":  27.00000000,\n",
    "    \"lon\":  76.00000000,  \n",
    "    \"units\": \"metric\",\n",
    "    \"appid\":   \"fd762b8f8b57466918cd66089bf8d1c6\"\n",
    "    \n",
    "    }"
   ]
  },
  {
   "cell_type": "code",
   "execution_count": 30,
   "metadata": {},
   "outputs": [],
   "source": [
    "resp = requests.get(url, params=parameters)"
   ]
  },
  {
   "cell_type": "code",
   "execution_count": 31,
   "metadata": {},
   "outputs": [
    {
     "data": {
      "text/plain": [
       "200"
      ]
     },
     "execution_count": 31,
     "metadata": {},
     "output_type": "execute_result"
    }
   ],
   "source": [
    "resp.status_code"
   ]
  },
  {
   "cell_type": "code",
   "execution_count": 32,
   "metadata": {},
   "outputs": [],
   "source": [
    "from pprint import pprint"
   ]
  },
  {
   "cell_type": "code",
   "execution_count": 35,
   "metadata": {},
   "outputs": [
    {
     "name": "stdout",
     "output_type": "stream",
     "text": [
      "{'base': 'stations',\n",
      " 'clouds': {'all': 1},\n",
      " 'cod': 200,\n",
      " 'coord': {'lat': 27, 'lon': 76},\n",
      " 'dt': 1706690919,\n",
      " 'id': 1269519,\n",
      " 'main': {'feels_like': 24.21,\n",
      "          'grnd_level': 967,\n",
      "          'humidity': 30,\n",
      "          'pressure': 1012,\n",
      "          'sea_level': 1012,\n",
      "          'temp': 24.88,\n",
      "          'temp_max': 24.88,\n",
      "          'temp_min': 24.88},\n",
      " 'name': 'Jaipur district',\n",
      " 'sys': {'country': 'IN',\n",
      "         'id': 9170,\n",
      "         'sunrise': 1706665348,\n",
      "         'sunset': 1706704560,\n",
      "         'type': 1},\n",
      " 'timezone': 19800,\n",
      " 'visibility': 10000,\n",
      " 'weather': [{'description': 'clear sky',\n",
      "              'icon': '01d',\n",
      "              'id': 800,\n",
      "              'main': 'Clear'}],\n",
      " 'wind': {'deg': 183, 'gust': 3.5, 'speed': 3.48}}\n"
     ]
    }
   ],
   "source": [
    "\n",
    "data = resp.json()\n",
    "\n",
    "pprint(data)"
   ]
  },
  {
   "cell_type": "code",
   "execution_count": 38,
   "metadata": {},
   "outputs": [
    {
     "name": "stdout",
     "output_type": "stream",
     "text": [
      "\n",
      "        Name: Jaipur district\n",
      "        Temp: 24.88\n",
      "        weather: clear sky\n",
      "        Icon: 01d\n",
      "                        \n"
     ]
    }
   ],
   "source": [
    "\n",
    "# ab isme se jo jo info humein chahiye use nikal lenge\n",
    "name = data[\"name\"]\n",
    "temp = data[\"main\"][\"temp\"]\n",
    "desc = data[\"weather\"][0][\"description\"]\n",
    "icon = data[\"weather\"][0][\"icon\"]\n",
    "\n",
    "msg = f\"\"\"\n",
    "        Name: {name}\n",
    "        Temp: {temp}\n",
    "        weather: {desc}\n",
    "        Icon: {icon}\n",
    "                        \"\"\"\n",
    "\n",
    "print(msg)"
   ]
  },
  {
   "cell_type": "code",
   "execution_count": null,
   "metadata": {},
   "outputs": [],
   "source": [
    "lat = 27.00000000\n",
    "long = 76.00000000"
   ]
  },
  {
   "cell_type": "code",
   "execution_count": 45,
   "metadata": {},
   "outputs": [],
   "source": [
    "def get_temprature(lat,lon):\n",
    "        url=\"https://api.openweathermap.org/data/2.5/weather\"\n",
    "\n",
    "        parameters = {\n",
    "                \"lat\":  lat,\n",
    "                \"lon\":  lon,  \n",
    "                \"units\": \"metric\",\n",
    "                \"appid\": \"fd762b8f8b57466918cd66089bf8d1c6\"\n",
    "                \n",
    "        }\n",
    "        resp = requests.get(url, params=parameters)\n",
    "        if resp.status_code==200:\n",
    "                try:\n",
    "                        name = data[\"name\"]\n",
    "                        temp = data[\"main\"][\"temp\"]\n",
    "                        desc = data[\"weather\"][0][\"description\"]\n",
    "                        icon = data[\"weather\"][0][\"icon\"]\n",
    "\n",
    "                        msg = f\"\"\"\n",
    "                                Name: {name}\n",
    "                                Temp: {temp}\n",
    "                                weather: {desc}\n",
    "                                Icon: {icon}\n",
    "                                \"\"\"\n",
    "\n",
    "                        print(msg)\n",
    "                except Exception:\n",
    "                        print(\"\\nEmpty Response from server\")\n",
    "        else:\n",
    "                print(\"\\nSometing went wrong\")\n",
    "                print(f\"Status Code: {resp.status_code} {resp.reason}\")"
   ]
  },
  {
   "cell_type": "code",
   "execution_count": 46,
   "metadata": {},
   "outputs": [
    {
     "data": {
      "text/plain": [
       "200"
      ]
     },
     "execution_count": 46,
     "metadata": {},
     "output_type": "execute_result"
    }
   ],
   "source": [
    "resp.status_code"
   ]
  },
  {
   "cell_type": "code",
   "execution_count": 70,
   "metadata": {},
   "outputs": [
    {
     "name": "stdout",
     "output_type": "stream",
     "text": [
      "\n",
      "                                Name: Jaipur district\n",
      "                                Temp: 24.88\n",
      "                                weather: clear sky\n",
      "                                Icon: 01d\n",
      "                                \n"
     ]
    }
   ],
   "source": [
    "lat = 00\n",
    "lon = 76.00\n",
    "get_temprature(lat,lon)"
   ]
  },
  {
   "cell_type": "code",
   "execution_count": 69,
   "metadata": {},
   "outputs": [
    {
     "name": "stdout",
     "output_type": "stream",
     "text": [
      "{'cod': '404', 'message': 'Internal error'}\n"
     ]
    }
   ],
   "source": [
    "url = \"https://api.openweathermap.org/data/2.5.weather\"\n",
    "parameters = {\n",
    "    \"q\": \"\",\n",
    "    \"appid\":\"fd762b8f8b57466918cd66089bf8d1c6\"\n",
    "}\n",
    "\n",
    "resp = requests.get(url,params=parameters)\n",
    "ans = resp.json()\n",
    "print(ans)"
   ]
  },
  {
   "cell_type": "markdown",
   "metadata": {},
   "source": [
    " # currentweathermap.org"
   ]
  }
 ],
 "metadata": {
  "kernelspec": {
   "display_name": "base",
   "language": "python",
   "name": "python3"
  },
  "language_info": {
   "codemirror_mode": {
    "name": "ipython",
    "version": 3
   },
   "file_extension": ".py",
   "mimetype": "text/x-python",
   "name": "python",
   "nbconvert_exporter": "python",
   "pygments_lexer": "ipython3",
   "version": "3.9.13"
  }
 },
 "nbformat": 4,
 "nbformat_minor": 2
}
